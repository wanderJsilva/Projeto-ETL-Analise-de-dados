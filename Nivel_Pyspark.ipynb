{
  "nbformat": 4,
  "nbformat_minor": 0,
  "metadata": {
    "colab": {
      "name": "Nivel_Pyspark.ipynb",
      "provenance": [],
      "collapsed_sections": []
    },
    "kernelspec": {
      "name": "python3",
      "display_name": "Python 3"
    },
    "language_info": {
      "name": "python"
    }
  },
  "cells": [
    {
      "cell_type": "markdown",
      "source": [
        "**Instalando Pyspark**"
      ],
      "metadata": {
        "id": "w5-4sKFDPtCY"
      }
    },
    {
      "cell_type": "code",
      "execution_count": null,
      "metadata": {
        "colab": {
          "base_uri": "https://localhost:8080/"
        },
        "id": "Tt6QjRWvPdEU",
        "outputId": "74569ed4-9b60-42b3-be9b-6c3b4eb8e6db"
      },
      "outputs": [
        {
          "output_type": "stream",
          "name": "stdout",
          "text": [
            "Requirement already satisfied: pyspark in /usr/local/lib/python3.7/dist-packages (3.2.0)\n",
            "Requirement already satisfied: py4j==0.10.9.2 in /usr/local/lib/python3.7/dist-packages (from pyspark) (0.10.9.2)\n"
          ]
        }
      ],
      "source": [
        "!pip install pyspark"
      ]
    },
    {
      "cell_type": "markdown",
      "source": [
        "**Montando o drive**"
      ],
      "metadata": {
        "id": "Illut4nWQUmN"
      }
    },
    {
      "cell_type": "code",
      "source": [
        "from google.colab import drive\n",
        "drive.mount('/content/drive')"
      ],
      "metadata": {
        "colab": {
          "base_uri": "https://localhost:8080/"
        },
        "id": "m5uzqqTOPzQr",
        "outputId": "60eebefb-c3a1-456a-9622-c754522dc164"
      },
      "execution_count": null,
      "outputs": [
        {
          "output_type": "stream",
          "name": "stdout",
          "text": [
            "Drive already mounted at /content/drive; to attempt to forcibly remount, call drive.mount(\"/content/drive\", force_remount=True).\n"
          ]
        }
      ]
    },
    {
      "cell_type": "markdown",
      "source": [
        "**Importando Bibliotecas**"
      ],
      "metadata": {
        "id": "5nRhsIWwQb0m"
      }
    },
    {
      "cell_type": "code",
      "source": [
        "from pyspark.sql import SparkSession\n",
        "from pyspark.sql.window import Window\n",
        "import pyspark.sql.functions as F\n",
        "import pandas as pd "
      ],
      "metadata": {
        "id": "5xOVxLuLQiGT"
      },
      "execution_count": null,
      "outputs": []
    },
    {
      "cell_type": "markdown",
      "source": [
        "**Configurando a SparkSession**"
      ],
      "metadata": {
        "id": "-uASjevZQl9O"
      }
    },
    {
      "cell_type": "code",
      "source": [
        "spark = (\n",
        "    SparkSession.builder\n",
        "      .master('local')\n",
        "      .appName('dataframe_withcolumn')\n",
        "      .config('spark.ui.port', '4050')\n",
        "      .getOrCreate()\n",
        ")"
      ],
      "metadata": {
        "id": "IC0EerJeQpvR"
      },
      "execution_count": null,
      "outputs": []
    },
    {
      "cell_type": "markdown",
      "source": [
        "**Montando a estrutura do Dataframe**"
      ],
      "metadata": {
        "id": "CoKLbCZwRLVK"
      }
    },
    {
      "cell_type": "code",
      "source": [
        "esquema = [\"orgao_superior_codigo_siorg\", \"orgao_superior_nome\", \"orgao_nome\", \"ano_mes_referencia\", \"sigla_codigo_cargo_comissao\", \"cargos_distribuidos\" ,\"cargos_ocupados\",\"cargos_vagos\"]\n",
        "df = (spark\n",
        "       .read\n",
        "       .format(\"csv\")\n",
        "       .option(\"header\", \"True\")\n",
        "       .option(\"inferschema\", \"True\")\n",
        "       .option(\"delimiter\", \",\")\n",
        "       .load(\"/content/drive/MyDrive/projeto-aprimoramento-wander/df_tratado_pandas.csv\").toDF(*esquema)\n",
        ")"
      ],
      "metadata": {
        "id": "rEfxhS2rRB_P"
      },
      "execution_count": null,
      "outputs": []
    },
    {
      "cell_type": "markdown",
      "source": [
        "**Executando o spark para ver se esta funcionando corretamente**"
      ],
      "metadata": {
        "id": "1yGlVKMMRkOj"
      }
    },
    {
      "cell_type": "code",
      "source": [
        "spark"
      ],
      "metadata": {
        "colab": {
          "base_uri": "https://localhost:8080/",
          "height": 219
        },
        "id": "JwT-KfHCRj26",
        "outputId": "89cd6ce4-b630-4b2f-96a2-8bf59c1baa33"
      },
      "execution_count": null,
      "outputs": [
        {
          "output_type": "execute_result",
          "data": {
            "text/html": [
              "\n",
              "            <div>\n",
              "                <p><b>SparkSession - in-memory</b></p>\n",
              "                \n",
              "        <div>\n",
              "            <p><b>SparkContext</b></p>\n",
              "\n",
              "            <p><a href=\"http://fcf628777820:4050\">Spark UI</a></p>\n",
              "\n",
              "            <dl>\n",
              "              <dt>Version</dt>\n",
              "                <dd><code>v3.2.0</code></dd>\n",
              "              <dt>Master</dt>\n",
              "                <dd><code>local</code></dd>\n",
              "              <dt>AppName</dt>\n",
              "                <dd><code>dataframe_withcolumn</code></dd>\n",
              "            </dl>\n",
              "        </div>\n",
              "        \n",
              "            </div>\n",
              "        "
            ],
            "text/plain": [
              "<pyspark.sql.session.SparkSession at 0x7fa68527eb50>"
            ]
          },
          "metadata": {},
          "execution_count": 122
        }
      ]
    },
    {
      "cell_type": "markdown",
      "source": [
        "**Exibindo o esquema do dataframe**"
      ],
      "metadata": {
        "id": "F0auY0XaR2aO"
      }
    },
    {
      "cell_type": "code",
      "source": [
        "df.printSchema()"
      ],
      "metadata": {
        "colab": {
          "base_uri": "https://localhost:8080/"
        },
        "id": "EFmEvfyGR1-r",
        "outputId": "72306079-f14e-484c-91bd-169de42be74a"
      },
      "execution_count": null,
      "outputs": [
        {
          "output_type": "stream",
          "name": "stdout",
          "text": [
            "root\n",
            " |-- orgao_superior_codigo_siorg: integer (nullable = true)\n",
            " |-- orgao_superior_nome: string (nullable = true)\n",
            " |-- orgao_nome: string (nullable = true)\n",
            " |-- ano_mes_referencia: integer (nullable = true)\n",
            " |-- sigla_codigo_cargo_comissao: string (nullable = true)\n",
            " |-- cargos_distribuidos: integer (nullable = true)\n",
            " |-- cargos_ocupados: integer (nullable = true)\n",
            " |-- cargos_vagos: integer (nullable = true)\n",
            "\n"
          ]
        }
      ]
    },
    {
      "cell_type": "code",
      "source": [
        "df.show()"
      ],
      "metadata": {
        "colab": {
          "base_uri": "https://localhost:8080/"
        },
        "id": "EbHznAi_SGKI",
        "outputId": "5d229ab4-4da1-4a23-c39d-1185445e3da0"
      },
      "execution_count": null,
      "outputs": [
        {
          "output_type": "stream",
          "name": "stdout",
          "text": [
            "+---------------------------+--------------------+--------------------+------------------+---------------------------+-------------------+---------------+------------+\n",
            "|orgao_superior_codigo_siorg| orgao_superior_nome|          orgao_nome|ano_mes_referencia|sigla_codigo_cargo_comissao|cargos_distribuidos|cargos_ocupados|cargos_vagos|\n",
            "+---------------------------+--------------------+--------------------+------------------+---------------------------+-------------------+---------------+------------+\n",
            "|                         46|ADVOCACIA-GERAL D...|ADVOCACIA-GERAL D...|            202110|       Direção e Assesso...|                 52|             52|           0|\n",
            "|                         46|ADVOCACIA-GERAL D...|ADVOCACIA-GERAL D...|            202110|       Direção e Assesso...|                 74|             74|           0|\n",
            "|                         46|ADVOCACIA-GERAL D...|ADVOCACIA-GERAL D...|            202110|       Direção e Assesso...|                 32|             28|           4|\n",
            "|                         46|ADVOCACIA-GERAL D...|ADVOCACIA-GERAL D...|            202110|       Direção e Assesso...|                 17|             16|           1|\n",
            "|                         46|ADVOCACIA-GERAL D...|ADVOCACIA-GERAL D...|            202110|       Direção e Assesso...|                 47|             46|           1|\n",
            "|                         46|ADVOCACIA-GERAL D...|ADVOCACIA-GERAL D...|            202110|       Direção e Assesso...|                  1|              1|           0|\n",
            "|                         46|ADVOCACIA-GERAL D...|ADVOCACIA-GERAL D...|            202110|       Direção e Assesso...|                  7|              7|           0|\n",
            "|                         46|ADVOCACIA-GERAL D...|ADVOCACIA-GERAL D...|            202110|       Direção e Assesso...|                  5|              5|           0|\n",
            "|                         46|ADVOCACIA-GERAL D...|ADVOCACIA-GERAL D...|            202110|       Direção e Assesso...|                  5|              5|           0|\n",
            "|                         46|ADVOCACIA-GERAL D...|ADVOCACIA-GERAL D...|            202110|       Direção e Assesso...|                  3|              3|           0|\n",
            "|                         46|ADVOCACIA-GERAL D...|ADVOCACIA-GERAL D...|            202110|       Direção e Assesso...|                  3|              3|           0|\n",
            "|                         46|ADVOCACIA-GERAL D...|ADVOCACIA-GERAL D...|            202110|       Funções Comission...|                 27|             27|           0|\n",
            "|                         46|ADVOCACIA-GERAL D...|ADVOCACIA-GERAL D...|            202110|       Funções Comission...|                 60|             60|           0|\n",
            "|                         46|ADVOCACIA-GERAL D...|ADVOCACIA-GERAL D...|            202110|       Funções Comission...|                139|            130|           9|\n",
            "|                         46|ADVOCACIA-GERAL D...|ADVOCACIA-GERAL D...|            202110|       Funções Comission...|                119|            117|           2|\n",
            "|                         46|ADVOCACIA-GERAL D...|ADVOCACIA-GERAL D...|            202110|       Funções Comission...|                  2|              2|           0|\n",
            "|                         46|ADVOCACIA-GERAL D...|ADVOCACIA-GERAL D...|            202110|       Funções Comission...|                  8|              8|           0|\n",
            "|                         46|ADVOCACIA-GERAL D...|ADVOCACIA-GERAL D...|            202110|       Funções Comission...|                  2|              2|           0|\n",
            "|                         46|ADVOCACIA-GERAL D...|ADVOCACIA-GERAL D...|            202110|       Funções Comission...|                 71|             67|           4|\n",
            "|                         46|ADVOCACIA-GERAL D...|ADVOCACIA-GERAL D...|            202110|       Funções Comission...|                 44|             42|           2|\n",
            "+---------------------------+--------------------+--------------------+------------------+---------------------------+-------------------+---------------+------------+\n",
            "only showing top 20 rows\n",
            "\n"
          ]
        }
      ]
    },
    {
      "cell_type": "markdown",
      "source": [
        "**Renomeando algumas colunas do dataframe**"
      ],
      "metadata": {
        "id": "8swP8sLUSKaI"
      }
    },
    {
      "cell_type": "code",
      "source": [
        "df = df.withColumnRenamed('orgao_superior_codigo_siorg', 'cod_siorg').withColumnRenamed('orgao_superior_nome', 'orgao_superior').withColumnRenamed('orgao_nome','orgao_administrativo').withColumnRenamed('sigla_codigo_cargo_comissao','cargo_comissao')"
      ],
      "metadata": {
        "id": "KNtMnsNESM5T"
      },
      "execution_count": null,
      "outputs": []
    },
    {
      "cell_type": "code",
      "source": [
        "df.show()"
      ],
      "metadata": {
        "colab": {
          "base_uri": "https://localhost:8080/"
        },
        "id": "nQCrB2CmSVuE",
        "outputId": "972d00ef-cada-49ff-a32b-2a37507dd532"
      },
      "execution_count": null,
      "outputs": [
        {
          "output_type": "stream",
          "name": "stdout",
          "text": [
            "+---------+--------------------+--------------------+------------------+--------------------+-------------------+---------------+------------+\n",
            "|cod_siorg|      orgao_superior|orgao_administrativo|ano_mes_referencia|      cargo_comissao|cargos_distribuidos|cargos_ocupados|cargos_vagos|\n",
            "+---------+--------------------+--------------------+------------------+--------------------+-------------------+---------------+------------+\n",
            "|       46|ADVOCACIA-GERAL D...|ADVOCACIA-GERAL D...|            202110|Direção e Assesso...|                 52|             52|           0|\n",
            "|       46|ADVOCACIA-GERAL D...|ADVOCACIA-GERAL D...|            202110|Direção e Assesso...|                 74|             74|           0|\n",
            "|       46|ADVOCACIA-GERAL D...|ADVOCACIA-GERAL D...|            202110|Direção e Assesso...|                 32|             28|           4|\n",
            "|       46|ADVOCACIA-GERAL D...|ADVOCACIA-GERAL D...|            202110|Direção e Assesso...|                 17|             16|           1|\n",
            "|       46|ADVOCACIA-GERAL D...|ADVOCACIA-GERAL D...|            202110|Direção e Assesso...|                 47|             46|           1|\n",
            "|       46|ADVOCACIA-GERAL D...|ADVOCACIA-GERAL D...|            202110|Direção e Assesso...|                  1|              1|           0|\n",
            "|       46|ADVOCACIA-GERAL D...|ADVOCACIA-GERAL D...|            202110|Direção e Assesso...|                  7|              7|           0|\n",
            "|       46|ADVOCACIA-GERAL D...|ADVOCACIA-GERAL D...|            202110|Direção e Assesso...|                  5|              5|           0|\n",
            "|       46|ADVOCACIA-GERAL D...|ADVOCACIA-GERAL D...|            202110|Direção e Assesso...|                  5|              5|           0|\n",
            "|       46|ADVOCACIA-GERAL D...|ADVOCACIA-GERAL D...|            202110|Direção e Assesso...|                  3|              3|           0|\n",
            "|       46|ADVOCACIA-GERAL D...|ADVOCACIA-GERAL D...|            202110|Direção e Assesso...|                  3|              3|           0|\n",
            "|       46|ADVOCACIA-GERAL D...|ADVOCACIA-GERAL D...|            202110|Funções Comission...|                 27|             27|           0|\n",
            "|       46|ADVOCACIA-GERAL D...|ADVOCACIA-GERAL D...|            202110|Funções Comission...|                 60|             60|           0|\n",
            "|       46|ADVOCACIA-GERAL D...|ADVOCACIA-GERAL D...|            202110|Funções Comission...|                139|            130|           9|\n",
            "|       46|ADVOCACIA-GERAL D...|ADVOCACIA-GERAL D...|            202110|Funções Comission...|                119|            117|           2|\n",
            "|       46|ADVOCACIA-GERAL D...|ADVOCACIA-GERAL D...|            202110|Funções Comission...|                  2|              2|           0|\n",
            "|       46|ADVOCACIA-GERAL D...|ADVOCACIA-GERAL D...|            202110|Funções Comission...|                  8|              8|           0|\n",
            "|       46|ADVOCACIA-GERAL D...|ADVOCACIA-GERAL D...|            202110|Funções Comission...|                  2|              2|           0|\n",
            "|       46|ADVOCACIA-GERAL D...|ADVOCACIA-GERAL D...|            202110|Funções Comission...|                 71|             67|           4|\n",
            "|       46|ADVOCACIA-GERAL D...|ADVOCACIA-GERAL D...|            202110|Funções Comission...|                 44|             42|           2|\n",
            "+---------+--------------------+--------------------+------------------+--------------------+-------------------+---------------+------------+\n",
            "only showing top 20 rows\n",
            "\n"
          ]
        }
      ]
    },
    {
      "cell_type": "markdown",
      "source": [
        " **WHEN - OTHERWISE**"
      ],
      "metadata": {
        "id": "jFPm6ZJHVQiS"
      }
    },
    {
      "cell_type": "code",
      "source": [
        "#CRIANDO UMA NOVA COLUNA \"STATUS\" RELACIONANDO Á COLUNA CARGOS VAGOS\n",
        "df1 = (df.withColumn(\"status\", F.when(F.col(\"cargos_vagos\") > 0, \"Tem cargos vagos\")\n",
        "          .otherwise(\"Não tem cargos vagos\"))    \n",
        "      )"
      ],
      "metadata": {
        "id": "-ZxzczOJSx8w"
      },
      "execution_count": null,
      "outputs": []
    },
    {
      "cell_type": "code",
      "source": [
        "df1.show()"
      ],
      "metadata": {
        "colab": {
          "base_uri": "https://localhost:8080/"
        },
        "id": "s8EiJORjS03e",
        "outputId": "6641d91c-d3d9-4416-95bb-670ea9ed0350"
      },
      "execution_count": null,
      "outputs": [
        {
          "output_type": "stream",
          "name": "stdout",
          "text": [
            "+---------+--------------------+--------------------+------------------+--------------------+-------------------+---------------+------------+--------------------+\n",
            "|cod_siorg|      orgao_superior|orgao_administrativo|ano_mes_referencia|      cargo_comissao|cargos_distribuidos|cargos_ocupados|cargos_vagos|              status|\n",
            "+---------+--------------------+--------------------+------------------+--------------------+-------------------+---------------+------------+--------------------+\n",
            "|       46|ADVOCACIA-GERAL D...|ADVOCACIA-GERAL D...|            202110|Direção e Assesso...|                 52|             52|           0|Não tem cargos vagos|\n",
            "|       46|ADVOCACIA-GERAL D...|ADVOCACIA-GERAL D...|            202110|Direção e Assesso...|                 74|             74|           0|Não tem cargos vagos|\n",
            "|       46|ADVOCACIA-GERAL D...|ADVOCACIA-GERAL D...|            202110|Direção e Assesso...|                 32|             28|           4|    Tem cargos vagos|\n",
            "|       46|ADVOCACIA-GERAL D...|ADVOCACIA-GERAL D...|            202110|Direção e Assesso...|                 17|             16|           1|    Tem cargos vagos|\n",
            "|       46|ADVOCACIA-GERAL D...|ADVOCACIA-GERAL D...|            202110|Direção e Assesso...|                 47|             46|           1|    Tem cargos vagos|\n",
            "|       46|ADVOCACIA-GERAL D...|ADVOCACIA-GERAL D...|            202110|Direção e Assesso...|                  1|              1|           0|Não tem cargos vagos|\n",
            "|       46|ADVOCACIA-GERAL D...|ADVOCACIA-GERAL D...|            202110|Direção e Assesso...|                  7|              7|           0|Não tem cargos vagos|\n",
            "|       46|ADVOCACIA-GERAL D...|ADVOCACIA-GERAL D...|            202110|Direção e Assesso...|                  5|              5|           0|Não tem cargos vagos|\n",
            "|       46|ADVOCACIA-GERAL D...|ADVOCACIA-GERAL D...|            202110|Direção e Assesso...|                  5|              5|           0|Não tem cargos vagos|\n",
            "|       46|ADVOCACIA-GERAL D...|ADVOCACIA-GERAL D...|            202110|Direção e Assesso...|                  3|              3|           0|Não tem cargos vagos|\n",
            "|       46|ADVOCACIA-GERAL D...|ADVOCACIA-GERAL D...|            202110|Direção e Assesso...|                  3|              3|           0|Não tem cargos vagos|\n",
            "|       46|ADVOCACIA-GERAL D...|ADVOCACIA-GERAL D...|            202110|Funções Comission...|                 27|             27|           0|Não tem cargos vagos|\n",
            "|       46|ADVOCACIA-GERAL D...|ADVOCACIA-GERAL D...|            202110|Funções Comission...|                 60|             60|           0|Não tem cargos vagos|\n",
            "|       46|ADVOCACIA-GERAL D...|ADVOCACIA-GERAL D...|            202110|Funções Comission...|                139|            130|           9|    Tem cargos vagos|\n",
            "|       46|ADVOCACIA-GERAL D...|ADVOCACIA-GERAL D...|            202110|Funções Comission...|                119|            117|           2|    Tem cargos vagos|\n",
            "|       46|ADVOCACIA-GERAL D...|ADVOCACIA-GERAL D...|            202110|Funções Comission...|                  2|              2|           0|Não tem cargos vagos|\n",
            "|       46|ADVOCACIA-GERAL D...|ADVOCACIA-GERAL D...|            202110|Funções Comission...|                  8|              8|           0|Não tem cargos vagos|\n",
            "|       46|ADVOCACIA-GERAL D...|ADVOCACIA-GERAL D...|            202110|Funções Comission...|                  2|              2|           0|Não tem cargos vagos|\n",
            "|       46|ADVOCACIA-GERAL D...|ADVOCACIA-GERAL D...|            202110|Funções Comission...|                 71|             67|           4|    Tem cargos vagos|\n",
            "|       46|ADVOCACIA-GERAL D...|ADVOCACIA-GERAL D...|            202110|Funções Comission...|                 44|             42|           2|    Tem cargos vagos|\n",
            "+---------+--------------------+--------------------+------------------+--------------------+-------------------+---------------+------------+--------------------+\n",
            "only showing top 20 rows\n",
            "\n"
          ]
        }
      ]
    },
    {
      "cell_type": "markdown",
      "source": [
        "**GroupBy**"
      ],
      "metadata": {
        "id": "ekttRTSzV1iE"
      }
    },
    {
      "cell_type": "code",
      "source": [
        "#MIN - RETORNA O VALOR IGUAL OU MENOR A 0 DE CARGOS VAGOS RELACIONANDO A COLUNA CARGO DE COMISSÃO\n",
        "\n",
        "df.groupBy(F.col(\"cargo_comissao\")).min(\"cargos_vagos\").show()"
      ],
      "metadata": {
        "colab": {
          "base_uri": "https://localhost:8080/"
        },
        "id": "JoX5aQhXVTjW",
        "outputId": "a5237ce3-05ff-4776-9655-47fc2d482bcd"
      },
      "execution_count": null,
      "outputs": [
        {
          "output_type": "stream",
          "name": "stdout",
          "text": [
            "+--------------------+-----------------+\n",
            "|      cargo_comissao|min(cargos_vagos)|\n",
            "+--------------------+-----------------+\n",
            "|Cargo de Natureza...|               -1|\n",
            "|Funções Comission...|               -1|\n",
            "|    Cargo de Direção|              -54|\n",
            "|  Função Gratificada|               -1|\n",
            "|Direção e Assesso...|               -8|\n",
            "|Função Comissiona...|               -8|\n",
            "|Vice-Presidente d...|                0|\n",
            "|Cargo Comissionad...|                0|\n",
            "|  Ministro de Estado|               -1|\n",
            "|Cargo Comissionad...|               -1|\n",
            "|Cargo Comissionad...|                0|\n",
            "|Presidente da Rep...|                0|\n",
            "|Comissionado de A...|               -1|\n",
            "|Cargo Comissionad...|                0|\n",
            "|Função Gratificad...|              -90|\n",
            "|Funções Comission...|               -1|\n",
            "+--------------------+-----------------+\n",
            "\n"
          ]
        }
      ]
    },
    {
      "cell_type": "code",
      "source": [
        "#MAX RETORAN O MAIOR NUMERO DE CARGOS VAGOS POR CARGO DE COMISSÃO\n",
        "df.groupBy(F.col(\"cargo_comissao\")).max(\"cargos_vagos\").show()"
      ],
      "metadata": {
        "colab": {
          "base_uri": "https://localhost:8080/"
        },
        "id": "obGsU3EgXedZ",
        "outputId": "8508d433-6037-47d9-b6fd-ec95164b8df1"
      },
      "execution_count": null,
      "outputs": [
        {
          "output_type": "stream",
          "name": "stdout",
          "text": [
            "+--------------------+-----------------+\n",
            "|      cargo_comissao|max(cargos_vagos)|\n",
            "+--------------------+-----------------+\n",
            "|Cargo de Natureza...|                1|\n",
            "|Funções Comission...|               63|\n",
            "|    Cargo de Direção|                3|\n",
            "|  Função Gratificada|              425|\n",
            "|Direção e Assesso...|               48|\n",
            "|Função Comissiona...|               74|\n",
            "|Vice-Presidente d...|                0|\n",
            "|Cargo Comissionad...|               12|\n",
            "|  Ministro de Estado|                0|\n",
            "|Cargo Comissionad...|                1|\n",
            "|Cargo Comissionad...|                2|\n",
            "|Presidente da Rep...|                0|\n",
            "|Comissionado de A...|                3|\n",
            "|Cargo Comissionad...|                3|\n",
            "|Função Gratificad...|               68|\n",
            "|Funções Comission...|              100|\n",
            "+--------------------+-----------------+\n",
            "\n"
          ]
        }
      ]
    },
    {
      "cell_type": "code",
      "source": [
        "#COUNT RETORNA A QUANTIDADE DE CARGOS DE COMISSÃO \n",
        "df.groupBy(F.col(\"cargo_comissao\")).count().show()"
      ],
      "metadata": {
        "colab": {
          "base_uri": "https://localhost:8080/"
        },
        "id": "qxwRdj3mYL8h",
        "outputId": "1572cfc4-32a0-46b1-9ee2-ee5a97a667b5"
      },
      "execution_count": null,
      "outputs": [
        {
          "output_type": "stream",
          "name": "stdout",
          "text": [
            "+--------------------+-----+\n",
            "|      cargo_comissao|count|\n",
            "+--------------------+-----+\n",
            "|Cargo de Natureza...|   26|\n",
            "|Funções Comission...|  174|\n",
            "|    Cargo de Direção|  422|\n",
            "|  Função Gratificada|  135|\n",
            "|Direção e Assesso...|  562|\n",
            "|Função Comissiona...|  102|\n",
            "|Vice-Presidente d...|    1|\n",
            "|Cargo Comissionad...|   51|\n",
            "|  Ministro de Estado|   18|\n",
            "|Cargo Comissionad...|   16|\n",
            "|Cargo Comissionad...|   20|\n",
            "|Presidente da Rep...|    1|\n",
            "|Comissionado de A...|   23|\n",
            "|Cargo Comissionad...|   41|\n",
            "|Função Gratificad...|  344|\n",
            "|Funções Comission...|  368|\n",
            "+--------------------+-----+\n",
            "\n"
          ]
        }
      ]
    },
    {
      "cell_type": "code",
      "source": [
        "#SUM SOMA A QUANTIDADE DISTRIBUIDOS POR CARGOS DE COMISSÃO \n",
        "df.groupBy(F.col(\"cargo_comissao\")).sum(\"cargos_distribuidos\").show()"
      ],
      "metadata": {
        "colab": {
          "base_uri": "https://localhost:8080/"
        },
        "id": "SkxfDcgcZH3s",
        "outputId": "59a51376-19c7-4e06-e98a-6ace94318a5d"
      },
      "execution_count": null,
      "outputs": [
        {
          "output_type": "stream",
          "name": "stdout",
          "text": [
            "+--------------------+------------------------+\n",
            "|      cargo_comissao|sum(cargos_distribuidos)|\n",
            "+--------------------+------------------------+\n",
            "|Cargo de Natureza...|                      47|\n",
            "|Funções Comission...|                    5182|\n",
            "|    Cargo de Direção|                    8383|\n",
            "|  Função Gratificada|                   16813|\n",
            "|Direção e Assesso...|                   10177|\n",
            "|Função Comissiona...|                   12007|\n",
            "|Vice-Presidente d...|                       1|\n",
            "|Cargo Comissionad...|                    2562|\n",
            "|  Ministro de Estado|                      18|\n",
            "|Cargo Comissionad...|                     119|\n",
            "|Cargo Comissionad...|                      47|\n",
            "|Presidente da Rep...|                       1|\n",
            "|Comissionado de A...|                     178|\n",
            "|Cargo Comissionad...|                     643|\n",
            "|Função Gratificad...|                   22464|\n",
            "|Funções Comission...|                   13526|\n",
            "+--------------------+------------------------+\n",
            "\n"
          ]
        }
      ]
    },
    {
      "cell_type": "markdown",
      "source": [
        "**FILTER**"
      ],
      "metadata": {
        "id": "b4BRNS9gbzpE"
      }
    },
    {
      "cell_type": "code",
      "source": [
        "#FILTRANDO A QUANTIDADE DE CARGOS POR DEPARTAMENTO (cargos de natureza especial)\n",
        "Cargo_de_Natureza_Especial = df.filter(F.col('cargo_comissao')=='Cargo de Natureza Especial').show()"
      ],
      "metadata": {
        "colab": {
          "base_uri": "https://localhost:8080/"
        },
        "id": "jBQuXnRFbcx1",
        "outputId": "9f1735c0-d5e9-4066-e5b8-01684ff682e1"
      },
      "execution_count": null,
      "outputs": [
        {
          "output_type": "stream",
          "name": "stdout",
          "text": [
            "+---------+--------------------+--------------------+------------------+--------------------+-------------------+---------------+------------+\n",
            "|cod_siorg|      orgao_superior|orgao_administrativo|ano_mes_referencia|      cargo_comissao|cargos_distribuidos|cargos_ocupados|cargos_vagos|\n",
            "+---------+--------------------+--------------------+------------------+--------------------+-------------------+---------------+------------+\n",
            "|       46|ADVOCACIA-GERAL D...|ADVOCACIA-GERAL D...|            202110|Cargo de Natureza...|                  6|              6|           0|\n",
            "|   214460|CONTROLADORIA-GER...|CONTROLADORIA-GER...|            202110|Cargo de Natureza...|                  1|              1|           0|\n",
            "|       14|MINISTÉRIO DA AGR...|MINISTÉRIO DA AGR...|            202110|Cargo de Natureza...|                  2|              2|           0|\n",
            "|   235874|MINISTÉRIO DA CID...|MINISTÉRIO DA CID...|            202110|Cargo de Natureza...|                  3|              3|           0|\n",
            "|     1988|MINISTÉRIO DA CIÊ...|AGÊNCIA ESPACIAL ...|            202110|Cargo de Natureza...|                  1|              1|           0|\n",
            "|     1988|MINISTÉRIO DA CIÊ...|MINISTÉRIO DA CIÊ...|            202110|Cargo de Natureza...|                  1|              1|           0|\n",
            "|    41066|MINISTÉRIO DA DEFESA|COMANDO DA AERONA...|            202110|Cargo de Natureza...|                  1|              1|           0|\n",
            "|    41066|MINISTÉRIO DA DEFESA|COMANDO DA AERONA...|            202110|Cargo de Natureza...|                  1|              1|           0|\n",
            "|    41066|MINISTÉRIO DA DEFESA|  COMANDO DA MARINHA|            202110|Cargo de Natureza...|                  1|              1|           0|\n",
            "|    41066|MINISTÉRIO DA DEFESA|  COMANDO DA MARINHA|            202110|Cargo de Natureza...|                  1|              1|           0|\n",
            "|    41066|MINISTÉRIO DA DEFESA| COMANDO DO EXERCITO|            202110|Cargo de Natureza...|                  1|              1|           0|\n",
            "|    41066|MINISTÉRIO DA DEFESA|MINISTÉRIO DA DEFESA|            202110|Cargo de Natureza...|                  2|              2|           0|\n",
            "|   235876|MINISTÉRIO DA ECO...|MINISTÉRIO DA ECO...|            202110|Cargo de Natureza...|                 10|             11|          -1|\n",
            "|      244|MINISTÉRIO DA EDU...|MINISTÉRIO DA EDU...|            202110|Cargo de Natureza...|                  1|              1|           0|\n",
            "|     2846|MINISTÉRIO DA INF...|MINISTÉRIO DA INF...|            202110|Cargo de Natureza...|                  1|              1|           0|\n",
            "|   235881|MINISTÉRIO DA JUS...|CONSELHO ADMINIST...|            202110|Cargo de Natureza...|                  2|              1|           1|\n",
            "|   235881|MINISTÉRIO DA JUS...|MINISTÉRIO DA JUS...|            202110|Cargo de Natureza...|                  1|              1|           0|\n",
            "|   219925|MINISTÉRIO DA MUL...|MINISTÉRIO DA MUL...|            202110|Cargo de Natureza...|                  1|              1|           0|\n",
            "|      304| MINISTÉRIO DA SAÚDE| MINISTÉRIO DA SAÚDE|            202110|Cargo de Natureza...|                  1|              1|           0|\n",
            "|   264359|MINISTÉRIO DAS CO...|MINISTÉRIO DAS CO...|            202110|Cargo de Natureza...|                  2|              2|           0|\n",
            "+---------+--------------------+--------------------+------------------+--------------------+-------------------+---------------+------------+\n",
            "only showing top 20 rows\n",
            "\n"
          ]
        }
      ]
    },
    {
      "cell_type": "code",
      "source": [
        "#FILTRANDO A QUANTIDADE DE CARGOS POR DEPARTAMENTO (cargos presidente da república)\n",
        "Presidente_da_República = df.filter(F.col('cargo_comissao')=='Presidente da República').show()"
      ],
      "metadata": {
        "colab": {
          "base_uri": "https://localhost:8080/"
        },
        "id": "85cQcO83ck9o",
        "outputId": "fd4dbdc7-2b88-4396-a46d-6189e1cb59d9"
      },
      "execution_count": null,
      "outputs": [
        {
          "output_type": "stream",
          "name": "stdout",
          "text": [
            "+---------+--------------------+--------------------+------------------+--------------------+-------------------+---------------+------------+\n",
            "|cod_siorg|      orgao_superior|orgao_administrativo|ano_mes_referencia|      cargo_comissao|cargos_distribuidos|cargos_ocupados|cargos_vagos|\n",
            "+---------+--------------------+--------------------+------------------+--------------------+-------------------+---------------+------------+\n",
            "|       26|PRESIDÊNCIA DA RE...|PRESIDÊNCIA DA RE...|            202110|Presidente da Rep...|                  1|              1|           0|\n",
            "+---------+--------------------+--------------------+------------------+--------------------+-------------------+---------------+------------+\n",
            "\n"
          ]
        }
      ]
    },
    {
      "cell_type": "code",
      "source": [
        "#FILTRANDO A QUANTIDADE DE CARGOS POR DEPARTAMENTO (cargos comissionado de assistência)\n",
        "Cargo_Comissionado_de_Assistência = df.filter(F.col('cargo_comissao')=='Cargo Comissionado de Assistência').show()"
      ],
      "metadata": {
        "colab": {
          "base_uri": "https://localhost:8080/"
        },
        "id": "q9RE8s9ocyYY",
        "outputId": "c9a26f32-dcd8-49a2-aae9-6d3d508d6851"
      },
      "execution_count": null,
      "outputs": [
        {
          "output_type": "stream",
          "name": "stdout",
          "text": [
            "+---------+--------------------+--------------------+------------------+--------------------+-------------------+---------------+------------+\n",
            "|cod_siorg|      orgao_superior|orgao_administrativo|ano_mes_referencia|      cargo_comissao|cargos_distribuidos|cargos_ocupados|cargos_vagos|\n",
            "+---------+--------------------+--------------------+------------------+--------------------+-------------------+---------------+------------+\n",
            "|     1988|MINISTÉRIO DA CIÊ...|AGÊNCIA NACIONAL ...|            202110|Cargo Comissionad...|                  2|              2|           0|\n",
            "|     1988|MINISTÉRIO DA CIÊ...|AGÊNCIA NACIONAL ...|            202110|Cargo Comissionad...|                  1|              2|          -1|\n",
            "|     2846|MINISTÉRIO DA INF...|AGÊNCIA NACIONAL ...|            202110|Cargo Comissionad...|                 19|             19|           0|\n",
            "|     2846|MINISTÉRIO DA INF...|AGÊNCIA NACIONAL ...|            202110|Cargo Comissionad...|                 30|             29|           1|\n",
            "|     2846|MINISTÉRIO DA INF...|AGÊNCIA NACIONAL ...|            202110|Cargo Comissionad...|                  3|              3|           0|\n",
            "|     2846|MINISTÉRIO DA INF...|AGÊNCIA NACIONAL ...|            202110|Cargo Comissionad...|                  7|              7|           0|\n",
            "|      304| MINISTÉRIO DA SAÚDE|AGÊNCIA NACIONAL ...|            202110|Cargo Comissionad...|                  3|              3|           0|\n",
            "|     2852|MINISTÉRIO DE MIN...|AGÊNCIA NACIONAL ...|            202110|Cargo Comissionad...|                  1|              1|           0|\n",
            "|     2852|MINISTÉRIO DE MIN...|AGÊNCIA NACIONAL ...|            202110|Cargo Comissionad...|                  2|              1|           1|\n",
            "|     2852|MINISTÉRIO DE MIN...|AGÊNCIA NACIONAL ...|            202110|Cargo Comissionad...|                  2|              2|           0|\n",
            "|     2852|MINISTÉRIO DE MIN...|AGÊNCIA NACIONAL ...|            202110|Cargo Comissionad...|                 21|             20|           1|\n",
            "|     2852|MINISTÉRIO DE MIN...|AGÊNCIA NACIONAL ...|            202110|Cargo Comissionad...|                 17|             16|           1|\n",
            "|   235880|MINISTÉRIO DO DES...|AGÊNCIA NACIONAL ...|            202110|Cargo Comissionad...|                  3|              2|           1|\n",
            "|   235880|MINISTÉRIO DO DES...|AGÊNCIA NACIONAL ...|            202110|Cargo Comissionad...|                  1|              1|           0|\n",
            "|    72084|MINISTÉRIO DO TUR...|AGÊNCIA NACIONAL ...|            202110|Cargo Comissionad...|                  2|              2|           0|\n",
            "|    72084|MINISTÉRIO DO TUR...|AGÊNCIA NACIONAL ...|            202110|Cargo Comissionad...|                  5|              5|           0|\n",
            "+---------+--------------------+--------------------+------------------+--------------------+-------------------+---------------+------------+\n",
            "\n"
          ]
        }
      ]
    },
    {
      "cell_type": "markdown",
      "source": [
        "**WHERE**"
      ],
      "metadata": {
        "id": "631Te85GdqzC"
      }
    },
    {
      "cell_type": "code",
      "source": [
        "#FILTRANDO A QUANTIDADE DE CARGOS VAGOS POR SETOR SE O VALOR DE CARGOS FOR IGUAL A 10\n",
        "df.select(['cargo_comissao','cargos_vagos']).where(df.cargos_vagos == 10).show()"
      ],
      "metadata": {
        "colab": {
          "base_uri": "https://localhost:8080/"
        },
        "id": "4g96l-ZEdHIj",
        "outputId": "e5d093a1-175b-42b2-fead-71074f6e5ea3"
      },
      "execution_count": null,
      "outputs": [
        {
          "output_type": "stream",
          "name": "stdout",
          "text": [
            "+--------------------+------------+\n",
            "|      cargo_comissao|cargos_vagos|\n",
            "+--------------------+------------+\n",
            "|Funções Comission...|          10|\n",
            "|  Função Gratificada|          10|\n",
            "|  Função Gratificada|          10|\n",
            "|Direção e Assesso...|          10|\n",
            "|Função Gratificad...|          10|\n",
            "|Função Comissiona...|          10|\n",
            "|Cargo Comissionad...|          10|\n",
            "|Funções Comission...|          10|\n",
            "|  Função Gratificada|          10|\n",
            "|Direção e Assesso...|          10|\n",
            "+--------------------+------------+\n",
            "\n"
          ]
        }
      ]
    },
    {
      "cell_type": "code",
      "source": [
        "#FILTRANDO OS CARGOS DE COMISSÃO CUJO OS CARGOS VAGOS ESTÃO NEGATIVADOS\n",
        "df2 = df.select(['cargo_comissao','cargos_vagos']).where(df.cargos_vagos <= -1)\n",
        "df2.show()"
      ],
      "metadata": {
        "colab": {
          "base_uri": "https://localhost:8080/"
        },
        "id": "F87nDNBKwVnM",
        "outputId": "eed5eea2-d9b1-45fc-f2be-eb1fd61f9452"
      },
      "execution_count": null,
      "outputs": [
        {
          "output_type": "stream",
          "name": "stdout",
          "text": [
            "+--------------------+------------+\n",
            "|      cargo_comissao|cargos_vagos|\n",
            "+--------------------+------------+\n",
            "|Comissionado de A...|          -1|\n",
            "|Cargo Comissionad...|          -1|\n",
            "|Direção e Assesso...|          -3|\n",
            "|  Ministro de Estado|          -1|\n",
            "|Cargo de Natureza...|          -1|\n",
            "|Função Comissiona...|          -1|\n",
            "|    Cargo de Direção|          -1|\n",
            "|    Cargo de Direção|          -8|\n",
            "|    Cargo de Direção|          -5|\n",
            "|    Cargo de Direção|         -29|\n",
            "|Função Gratificad...|         -20|\n",
            "|    Cargo de Direção|          -1|\n",
            "|Função Gratificad...|          -1|\n",
            "|    Cargo de Direção|          -1|\n",
            "|    Cargo de Direção|          -1|\n",
            "|Função Comissiona...|          -2|\n",
            "|Função Gratificad...|          -1|\n",
            "|Função Gratificad...|          -1|\n",
            "|Função Gratificad...|          -1|\n",
            "|Função Gratificad...|          -1|\n",
            "+--------------------+------------+\n",
            "only showing top 20 rows\n",
            "\n"
          ]
        }
      ]
    },
    {
      "cell_type": "markdown",
      "source": [
        "**OrderBy**"
      ],
      "metadata": {
        "id": "XVgezgm4ea1O"
      }
    },
    {
      "cell_type": "code",
      "source": [
        "#CLASSIFICANDO A COLUNA \"Cargos distribuidos\" POR ORDEM DESCEDENTE\n",
        "df.orderBy(F.col(\"cargos_distribuidos\").desc()).show(truncate=False)"
      ],
      "metadata": {
        "colab": {
          "base_uri": "https://localhost:8080/"
        },
        "id": "3iWIm24OeenB",
        "outputId": "f3a59b0c-bb32-40c0-e7c9-15116a906332"
      },
      "execution_count": null,
      "outputs": [
        {
          "output_type": "stream",
          "name": "stdout",
          "text": [
            "+---------+---------------------------------------------------+--------------------------------------------------------+------------------+------------------------------------------------------+-------------------+---------------+------------+\n",
            "|cod_siorg|orgao_superior                                     |orgao_administrativo                                    |ano_mes_referencia|cargo_comissao                                        |cargos_distribuidos|cargos_ocupados|cargos_vagos|\n",
            "+---------+---------------------------------------------------+--------------------------------------------------------+------------------+------------------------------------------------------+-------------------+---------------+------------+\n",
            "|235876   |MINISTÉRIO DA ECONOMIA                             |MINISTÉRIO DA ECONOMIA                                  |202110            |Função Gratificada                                    |1615               |1388           |227         |\n",
            "|276368   |MINISTÉRIO DO TRABALHO E PREVIDÊNCIA               |INSTITUTO NACIONAL DO SEGURO SOCIAL                     |202110            |Funções Comissionadas do Poder Executivo              |1576               |1476           |100         |\n",
            "|235881   |MINISTÉRIO DA JUSTIÇA E SEGURANÇA PÚBLICA          |MINISTÉRIO DA JUSTIÇA E SEGURANÇA PÚBLICA               |202110            |Função Gratificada                                    |1401               |1327           |74          |\n",
            "|276368   |MINISTÉRIO DO TRABALHO E PREVIDÊNCIA               |INSTITUTO NACIONAL DO SEGURO SOCIAL                     |202110            |Função Gratificada                                    |1173               |748            |425         |\n",
            "|235876   |MINISTÉRIO DA ECONOMIA                             |MINISTÉRIO DA ECONOMIA                                  |202110            |Função Gratificada                                    |1077               |902            |175         |\n",
            "|235876   |MINISTÉRIO DA ECONOMIA                             |MINISTÉRIO DA ECONOMIA                                  |202110            |Funções Comissionadas do Poder Executivo              |867                |804            |63          |\n",
            "|235876   |MINISTÉRIO DA ECONOMIA                             |MINISTÉRIO DA ECONOMIA                                  |202110            |Funções Comissionadas do Poder Executivo              |729                |709            |20          |\n",
            "|235876   |MINISTÉRIO DA ECONOMIA                             |FUNDAÇÃO INSTITUTO BRASILEIRO DE GEOGRAFIA E ESTATÍSTICA|202110            |Função Gratificada                                    |694                |497            |197         |\n",
            "|276368   |MINISTÉRIO DO TRABALHO E PREVIDÊNCIA               |INSTITUTO NACIONAL DO SEGURO SOCIAL                     |202110            |Função Gratificada                                    |630                |244            |386         |\n",
            "|235881   |MINISTÉRIO DA JUSTIÇA E SEGURANÇA PÚBLICA          |MINISTÉRIO DA JUSTIÇA E SEGURANÇA PÚBLICA               |202110            |Função Gratificada                                    |555                |531            |24          |\n",
            "|14       |MINISTÉRIO DA AGRICULTURA, PECUÁRIA E ABASTECIMENTO|MINISTÉRIO DA AGRICULTURA, PECUÁRIA E ABASTECIMENTO     |202110            |Função Gratificada                                    |543                |393            |150         |\n",
            "|276368   |MINISTÉRIO DO TRABALHO E PREVIDÊNCIA               |INSTITUTO NACIONAL DO SEGURO SOCIAL                     |202110            |Função Gratificada                                    |521                |131            |390         |\n",
            "|235876   |MINISTÉRIO DA ECONOMIA                             |FUNDAÇÃO INSTITUTO BRASILEIRO DE GEOGRAFIA E ESTATÍSTICA|202110            |Função Gratificada                                    |508                |412            |96          |\n",
            "|235876   |MINISTÉRIO DA ECONOMIA                             |MINISTÉRIO DA ECONOMIA                                  |202110            |Função Gratificada                                    |455                |384            |71          |\n",
            "|244      |MINISTÉRIO DA EDUCAÇÃO                             |UNIVERSIDADE FEDERAL DO RIO DE JANEIRO                  |202110            |Função Gratificada Específica de Instituição de Ensino|411                |411            |0           |\n",
            "|235881   |MINISTÉRIO DA JUSTIÇA E SEGURANÇA PÚBLICA          |MINISTÉRIO DA JUSTIÇA E SEGURANÇA PÚBLICA               |202110            |Funções Comissionadas do Poder Executivo              |403                |395            |8           |\n",
            "|2846     |MINISTÉRIO DA INFRAESTRUTURA                       |DEPARTAMENTO NACIONAL DE INFRAESTRUTURA DE TRANSPORTES  |202110            |Funções Comissionadas do Poder Executivo              |392                |368            |24          |\n",
            "|235876   |MINISTÉRIO DA ECONOMIA                             |MINISTÉRIO DA ECONOMIA                                  |202110            |Direção e Assessoramento Superiores                   |372                |363            |9           |\n",
            "|304      |MINISTÉRIO DA SAÚDE                                |MINISTÉRIO DA SAÚDE                                     |202110            |Função Gratificada                                    |366                |299            |67          |\n",
            "|244      |MINISTÉRIO DA EDUCAÇÃO                             |UNIVERSIDADE FEDERAL DO RIO DE JANEIRO                  |202110            |Função Comissionada de Coordenador de Curso           |356                |348            |8           |\n",
            "+---------+---------------------------------------------------+--------------------------------------------------------+------------------+------------------------------------------------------+-------------------+---------------+------------+\n",
            "only showing top 20 rows\n",
            "\n"
          ]
        }
      ]
    },
    {
      "cell_type": "markdown",
      "source": [
        "**WindowFunctions**"
      ],
      "metadata": {
        "id": "_fQxB9Vqe6Yd"
      }
    },
    {
      "cell_type": "code",
      "source": [
        "#row_number Window Function\n",
        "#CRIANDO UMA COLUNA \"LINHA\" QUE RETORNA O NÚMERO DA LINHA DE ACORDO COM A COLUNA PARTICIONADA\n",
        "w1 = Window.partitionBy(F.col(\"orgao_administrativo\")).orderBy(\"cargos_distribuidos\", \"cargos_ocupados\", \"cargos_vagos\")\n",
        "df.withColumn(\"linha\", F.row_number().over(w1)).show()"
      ],
      "metadata": {
        "colab": {
          "base_uri": "https://localhost:8080/"
        },
        "id": "NPTyNw86e9y3",
        "outputId": "1406f93a-f2d5-402c-92a7-ba55fac3afdb"
      },
      "execution_count": null,
      "outputs": [
        {
          "output_type": "stream",
          "name": "stdout",
          "text": [
            "+---------+--------------------+--------------------+------------------+--------------------+-------------------+---------------+------------+-----+\n",
            "|cod_siorg|      orgao_superior|orgao_administrativo|ano_mes_referencia|      cargo_comissao|cargos_distribuidos|cargos_ocupados|cargos_vagos|linha|\n",
            "+---------+--------------------+--------------------+------------------+--------------------+-------------------+---------------+------------+-----+\n",
            "|       46|ADVOCACIA-GERAL D...|ADVOCACIA-GERAL D...|            202110|Direção e Assesso...|                  1|              1|           0|    1|\n",
            "|       46|ADVOCACIA-GERAL D...|ADVOCACIA-GERAL D...|            202110|  Ministro de Estado|                  1|              1|           0|    2|\n",
            "|       46|ADVOCACIA-GERAL D...|ADVOCACIA-GERAL D...|            202110|Funções Comission...|                  2|              2|           0|    3|\n",
            "|       46|ADVOCACIA-GERAL D...|ADVOCACIA-GERAL D...|            202110|Funções Comission...|                  2|              2|           0|    4|\n",
            "|       46|ADVOCACIA-GERAL D...|ADVOCACIA-GERAL D...|            202110|Direção e Assesso...|                  3|              3|           0|    5|\n",
            "|       46|ADVOCACIA-GERAL D...|ADVOCACIA-GERAL D...|            202110|Direção e Assesso...|                  3|              3|           0|    6|\n",
            "|       46|ADVOCACIA-GERAL D...|ADVOCACIA-GERAL D...|            202110|Direção e Assesso...|                  5|              5|           0|    7|\n",
            "|       46|ADVOCACIA-GERAL D...|ADVOCACIA-GERAL D...|            202110|Direção e Assesso...|                  5|              5|           0|    8|\n",
            "|       46|ADVOCACIA-GERAL D...|ADVOCACIA-GERAL D...|            202110|Cargo de Natureza...|                  6|              6|           0|    9|\n",
            "|       46|ADVOCACIA-GERAL D...|ADVOCACIA-GERAL D...|            202110|Direção e Assesso...|                  7|              7|           0|   10|\n",
            "|       46|ADVOCACIA-GERAL D...|ADVOCACIA-GERAL D...|            202110|Funções Comission...|                  8|              8|           0|   11|\n",
            "|       46|ADVOCACIA-GERAL D...|ADVOCACIA-GERAL D...|            202110|Direção e Assesso...|                 17|             16|           1|   12|\n",
            "|       46|ADVOCACIA-GERAL D...|ADVOCACIA-GERAL D...|            202110|Funções Comission...|                 27|             27|           0|   13|\n",
            "|       46|ADVOCACIA-GERAL D...|ADVOCACIA-GERAL D...|            202110|Direção e Assesso...|                 32|             28|           4|   14|\n",
            "|       46|ADVOCACIA-GERAL D...|ADVOCACIA-GERAL D...|            202110|Funções Comission...|                 44|             42|           2|   15|\n",
            "|       46|ADVOCACIA-GERAL D...|ADVOCACIA-GERAL D...|            202110|Direção e Assesso...|                 47|             46|           1|   16|\n",
            "|       46|ADVOCACIA-GERAL D...|ADVOCACIA-GERAL D...|            202110|Direção e Assesso...|                 52|             52|           0|   17|\n",
            "|       46|ADVOCACIA-GERAL D...|ADVOCACIA-GERAL D...|            202110|Funções Comission...|                 60|             60|           0|   18|\n",
            "|       46|ADVOCACIA-GERAL D...|ADVOCACIA-GERAL D...|            202110|Funções Comission...|                 71|             67|           4|   19|\n",
            "|       46|ADVOCACIA-GERAL D...|ADVOCACIA-GERAL D...|            202110|Direção e Assesso...|                 74|             74|           0|   20|\n",
            "+---------+--------------------+--------------------+------------------+--------------------+-------------------+---------------+------------+-----+\n",
            "only showing top 20 rows\n",
            "\n"
          ]
        }
      ]
    },
    {
      "cell_type": "code",
      "source": [
        "#Window Aggregate Functions\n",
        "#AGREGANDO VÁRIOS VALORES RELACIONANDO A COLUNA CARGO DE COMISSÃO\n",
        "(df.withColumn(\"QTD\", F.row_number().over(w1))\n",
        "  .withColumn(\"média\", F.avg(F.col(\"cargos_distribuidos\")).over(w1))\n",
        " .withColumn(\"soma\", F.sum(F.col(\"cargos_distribuidos\")).over(w1))\n",
        " .withColumn(\"min\", F.min(F.col(\"cargos_distribuidos\")).over(w1))\n",
        " .withColumn(\"max\", F.max(F.col(\"cargos_distribuidos\")).over(w1))\n",
        " .where(F.col(\"QTD\") == 1).select(\"QTD\",\"cargo_comissao\", \"média\", \"soma\", \"min\", \"max\")\n",
        ").show()"
      ],
      "metadata": {
        "colab": {
          "base_uri": "https://localhost:8080/"
        },
        "id": "AV7R9SGwh1pb",
        "outputId": "6d3e561a-c914-47c7-b7b6-8cc7090c2b10"
      },
      "execution_count": null,
      "outputs": [
        {
          "output_type": "stream",
          "name": "stdout",
          "text": [
            "+---+--------------------+-----+----+---+---+\n",
            "|QTD|      cargo_comissao|média|soma|min|max|\n",
            "+---+--------------------+-----+----+---+---+\n",
            "|  1|Direção e Assesso...|  1.0|   2|  1|  1|\n",
            "|  1|Direção e Assesso...|  1.0|   3|  1|  1|\n",
            "|  1|Cargo Comissionad...|  1.0|   2|  1|  1|\n",
            "|  1|Cargo Comissionad...|  1.0|   2|  1|  1|\n",
            "|  1|Cargo Comissionad...|  1.0|   2|  1|  1|\n",
            "|  1|Comissionado de A...|  1.0|   3|  1|  1|\n",
            "|  1|Cargo Comissionad...|  1.0|   2|  1|  1|\n",
            "|  1|Cargo Comissionad...|  1.0|   1|  1|  1|\n",
            "|  1|Cargo Comissionad...|  1.0|   1|  1|  1|\n",
            "|  1|Cargo Comissionad...|  1.0|   1|  1|  1|\n",
            "|  1|Cargo Comissionad...|  1.0|   2|  1|  1|\n",
            "|  1|Cargo Comissionad...|  1.0|   1|  1|  1|\n",
            "|  1|Cargo Comissionad...|  1.0|   1|  1|  1|\n",
            "|  1|Direção e Assesso...|  1.0|   4|  1|  1|\n",
            "|  1|    Cargo de Direção|  1.0|   1|  1|  1|\n",
            "|  1|    Cargo de Direção|  1.0|   1|  1|  1|\n",
            "|  1|    Cargo de Direção|  1.0|   1|  1|  1|\n",
            "|  1|    Cargo de Direção|  1.0|  12|  1|  1|\n",
            "|  1|Cargo de Natureza...|  1.0|   2|  1|  1|\n",
            "|  1|Direção e Assesso...|  1.0|   3|  1|  1|\n",
            "+---+--------------------+-----+----+---+---+\n",
            "only showing top 20 rows\n",
            "\n"
          ]
        }
      ]
    },
    {
      "cell_type": "code",
      "source": [
        "#percent_rank Window Function\n",
        "#CRIANDO UM COLUNA QUE RETORNA A PORCENTAGEM DE CARGOS DISTRIBUIDOS NA ORDEM ASCEDENTE\n",
        "df.withColumn(\"percent_rank\", F.percent_rank().over(w1)).show()"
      ],
      "metadata": {
        "colab": {
          "base_uri": "https://localhost:8080/"
        },
        "id": "CgcQwcmrmSSm",
        "outputId": "03f1672a-cf79-493b-e085-9bb5a9b86ae8"
      },
      "execution_count": null,
      "outputs": [
        {
          "output_type": "stream",
          "name": "stdout",
          "text": [
            "+---------+--------------------+--------------------+------------------+--------------------+-------------------+---------------+------------+-------------------+\n",
            "|cod_siorg|      orgao_superior|orgao_administrativo|ano_mes_referencia|      cargo_comissao|cargos_distribuidos|cargos_ocupados|cargos_vagos|       percent_rank|\n",
            "+---------+--------------------+--------------------+------------------+--------------------+-------------------+---------------+------------+-------------------+\n",
            "|       46|ADVOCACIA-GERAL D...|ADVOCACIA-GERAL D...|            202110|Direção e Assesso...|                  1|              1|           0|                0.0|\n",
            "|       46|ADVOCACIA-GERAL D...|ADVOCACIA-GERAL D...|            202110|  Ministro de Estado|                  1|              1|           0|                0.0|\n",
            "|       46|ADVOCACIA-GERAL D...|ADVOCACIA-GERAL D...|            202110|Funções Comission...|                  2|              2|           0|0.08695652173913043|\n",
            "|       46|ADVOCACIA-GERAL D...|ADVOCACIA-GERAL D...|            202110|Funções Comission...|                  2|              2|           0|0.08695652173913043|\n",
            "|       46|ADVOCACIA-GERAL D...|ADVOCACIA-GERAL D...|            202110|Direção e Assesso...|                  3|              3|           0|0.17391304347826086|\n",
            "|       46|ADVOCACIA-GERAL D...|ADVOCACIA-GERAL D...|            202110|Direção e Assesso...|                  3|              3|           0|0.17391304347826086|\n",
            "|       46|ADVOCACIA-GERAL D...|ADVOCACIA-GERAL D...|            202110|Direção e Assesso...|                  5|              5|           0| 0.2608695652173913|\n",
            "|       46|ADVOCACIA-GERAL D...|ADVOCACIA-GERAL D...|            202110|Direção e Assesso...|                  5|              5|           0| 0.2608695652173913|\n",
            "|       46|ADVOCACIA-GERAL D...|ADVOCACIA-GERAL D...|            202110|Cargo de Natureza...|                  6|              6|           0|0.34782608695652173|\n",
            "|       46|ADVOCACIA-GERAL D...|ADVOCACIA-GERAL D...|            202110|Direção e Assesso...|                  7|              7|           0|  0.391304347826087|\n",
            "|       46|ADVOCACIA-GERAL D...|ADVOCACIA-GERAL D...|            202110|Funções Comission...|                  8|              8|           0|0.43478260869565216|\n",
            "|       46|ADVOCACIA-GERAL D...|ADVOCACIA-GERAL D...|            202110|Direção e Assesso...|                 17|             16|           1| 0.4782608695652174|\n",
            "|       46|ADVOCACIA-GERAL D...|ADVOCACIA-GERAL D...|            202110|Funções Comission...|                 27|             27|           0| 0.5217391304347826|\n",
            "|       46|ADVOCACIA-GERAL D...|ADVOCACIA-GERAL D...|            202110|Direção e Assesso...|                 32|             28|           4| 0.5652173913043478|\n",
            "|       46|ADVOCACIA-GERAL D...|ADVOCACIA-GERAL D...|            202110|Funções Comission...|                 44|             42|           2| 0.6086956521739131|\n",
            "|       46|ADVOCACIA-GERAL D...|ADVOCACIA-GERAL D...|            202110|Direção e Assesso...|                 47|             46|           1| 0.6521739130434783|\n",
            "|       46|ADVOCACIA-GERAL D...|ADVOCACIA-GERAL D...|            202110|Direção e Assesso...|                 52|             52|           0| 0.6956521739130435|\n",
            "|       46|ADVOCACIA-GERAL D...|ADVOCACIA-GERAL D...|            202110|Funções Comission...|                 60|             60|           0| 0.7391304347826086|\n",
            "|       46|ADVOCACIA-GERAL D...|ADVOCACIA-GERAL D...|            202110|Funções Comission...|                 71|             67|           4|  0.782608695652174|\n",
            "|       46|ADVOCACIA-GERAL D...|ADVOCACIA-GERAL D...|            202110|Direção e Assesso...|                 74|             74|           0| 0.8260869565217391|\n",
            "+---------+--------------------+--------------------+------------------+--------------------+-------------------+---------------+------------+-------------------+\n",
            "only showing top 20 rows\n",
            "\n"
          ]
        }
      ]
    },
    {
      "cell_type": "markdown",
      "source": [
        "**Criando duas novas coluna referindo a porcentagem em relação a coluna cargos ocupados e cargos vagos**"
      ],
      "metadata": {
        "id": "N3D_LXCWm5ir"
      }
    },
    {
      "cell_type": "code",
      "source": [
        "df = df.withColumn(\"porcentagem_cargos_ocupados\", F.col(\"cargos_ocupados\") * 100 / F.col(\"cargos_distribuidos\"))\n",
        "df = df.withColumn(\"porcentagem_cargos_vagos\", F.col(\"cargos_vagos\") * 100 / F.col(\"cargos_distribuidos\"))"
      ],
      "metadata": {
        "id": "Uz_oHWMYm8ae"
      },
      "execution_count": null,
      "outputs": []
    },
    {
      "cell_type": "code",
      "source": [
        "df.show()"
      ],
      "metadata": {
        "colab": {
          "base_uri": "https://localhost:8080/"
        },
        "id": "n5jhFbihnF5K",
        "outputId": "95bd394a-72c2-4b45-ee8d-3b1bb2f3da76"
      },
      "execution_count": null,
      "outputs": [
        {
          "output_type": "stream",
          "name": "stdout",
          "text": [
            "+---------+--------------------+--------------------+------------------+--------------------+-------------------+---------------+------------+---------------------------+------------------------+\n",
            "|cod_siorg|      orgao_superior|orgao_administrativo|ano_mes_referencia|      cargo_comissao|cargos_distribuidos|cargos_ocupados|cargos_vagos|porcentagem_cargos_ocupados|porcentagem_cargos_vagos|\n",
            "+---------+--------------------+--------------------+------------------+--------------------+-------------------+---------------+------------+---------------------------+------------------------+\n",
            "|       46|ADVOCACIA-GERAL D...|ADVOCACIA-GERAL D...|            202110|Direção e Assesso...|                 52|             52|           0|                      100.0|                     0.0|\n",
            "|       46|ADVOCACIA-GERAL D...|ADVOCACIA-GERAL D...|            202110|Direção e Assesso...|                 74|             74|           0|                      100.0|                     0.0|\n",
            "|       46|ADVOCACIA-GERAL D...|ADVOCACIA-GERAL D...|            202110|Direção e Assesso...|                 32|             28|           4|                       87.5|                    12.5|\n",
            "|       46|ADVOCACIA-GERAL D...|ADVOCACIA-GERAL D...|            202110|Direção e Assesso...|                 17|             16|           1|          94.11764705882354|       5.882352941176471|\n",
            "|       46|ADVOCACIA-GERAL D...|ADVOCACIA-GERAL D...|            202110|Direção e Assesso...|                 47|             46|           1|          97.87234042553192|       2.127659574468085|\n",
            "|       46|ADVOCACIA-GERAL D...|ADVOCACIA-GERAL D...|            202110|Direção e Assesso...|                  1|              1|           0|                      100.0|                     0.0|\n",
            "|       46|ADVOCACIA-GERAL D...|ADVOCACIA-GERAL D...|            202110|Direção e Assesso...|                  7|              7|           0|                      100.0|                     0.0|\n",
            "|       46|ADVOCACIA-GERAL D...|ADVOCACIA-GERAL D...|            202110|Direção e Assesso...|                  5|              5|           0|                      100.0|                     0.0|\n",
            "|       46|ADVOCACIA-GERAL D...|ADVOCACIA-GERAL D...|            202110|Direção e Assesso...|                  5|              5|           0|                      100.0|                     0.0|\n",
            "|       46|ADVOCACIA-GERAL D...|ADVOCACIA-GERAL D...|            202110|Direção e Assesso...|                  3|              3|           0|                      100.0|                     0.0|\n",
            "|       46|ADVOCACIA-GERAL D...|ADVOCACIA-GERAL D...|            202110|Direção e Assesso...|                  3|              3|           0|                      100.0|                     0.0|\n",
            "|       46|ADVOCACIA-GERAL D...|ADVOCACIA-GERAL D...|            202110|Funções Comission...|                 27|             27|           0|                      100.0|                     0.0|\n",
            "|       46|ADVOCACIA-GERAL D...|ADVOCACIA-GERAL D...|            202110|Funções Comission...|                 60|             60|           0|                      100.0|                     0.0|\n",
            "|       46|ADVOCACIA-GERAL D...|ADVOCACIA-GERAL D...|            202110|Funções Comission...|                139|            130|           9|           93.5251798561151|       6.474820143884892|\n",
            "|       46|ADVOCACIA-GERAL D...|ADVOCACIA-GERAL D...|            202110|Funções Comission...|                119|            117|           2|          98.31932773109244|       1.680672268907563|\n",
            "|       46|ADVOCACIA-GERAL D...|ADVOCACIA-GERAL D...|            202110|Funções Comission...|                  2|              2|           0|                      100.0|                     0.0|\n",
            "|       46|ADVOCACIA-GERAL D...|ADVOCACIA-GERAL D...|            202110|Funções Comission...|                  8|              8|           0|                      100.0|                     0.0|\n",
            "|       46|ADVOCACIA-GERAL D...|ADVOCACIA-GERAL D...|            202110|Funções Comission...|                  2|              2|           0|                      100.0|                     0.0|\n",
            "|       46|ADVOCACIA-GERAL D...|ADVOCACIA-GERAL D...|            202110|Funções Comission...|                 71|             67|           4|          94.36619718309859|       5.633802816901408|\n",
            "|       46|ADVOCACIA-GERAL D...|ADVOCACIA-GERAL D...|            202110|Funções Comission...|                 44|             42|           2|          95.45454545454545|       4.545454545454546|\n",
            "+---------+--------------------+--------------------+------------------+--------------------+-------------------+---------------+------------+---------------------------+------------------------+\n",
            "only showing top 20 rows\n",
            "\n"
          ]
        }
      ]
    },
    {
      "cell_type": "markdown",
      "source": [
        "Convertendo o arquivo em pandas e salvando em csv"
      ],
      "metadata": {
        "id": "Mwy17IORn_zK"
      }
    },
    {
      "cell_type": "code",
      "source": [
        "df_conv = df.toPandas()"
      ],
      "metadata": {
        "id": "HOu8pj_voAuo"
      },
      "execution_count": null,
      "outputs": []
    },
    {
      "cell_type": "code",
      "source": [
        "df_conv.to_csv('df_tratado_pyspark.csv',index=False)"
      ],
      "metadata": {
        "id": "fhLGDKjroD57"
      },
      "execution_count": null,
      "outputs": []
    }
  ]
}